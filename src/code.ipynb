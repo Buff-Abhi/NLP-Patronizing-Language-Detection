{
 "cells": [
  {
   "cell_type": "code",
   "execution_count": 1,
   "metadata": {
    "id": "kKEU8GJiD053"
   },
   "outputs": [],
   "source": [
    "# trainData\n",
    "\n",
    "import random\n",
    "import os\n",
    "import pandas as pd\n",
    "import numpy as np\n",
    "from urllib import request"
   ]
  },
  {
   "cell_type": "code",
   "execution_count": 2,
   "metadata": {
    "colab": {
     "base_uri": "https://localhost:8080/"
    },
    "id": "EyrwfTgDD058",
    "outputId": "c2c8fe79-f93b-4e64-c7d1-0bd7c17e2b6d"
   },
   "outputs": [
    {
     "name": "stdout",
     "output_type": "stream",
     "text": [
      "Fetching https://raw.githubusercontent.com/Perez-AlmendrosC/dontpatronizeme/master/semeval-2022/dont_patronize_me.py\n"
     ]
    }
   ],
   "source": [
    "#fetches data from site, writes it to file\n",
    "module_url = f\"https://raw.githubusercontent.com/Perez-AlmendrosC/dontpatronizeme/master/semeval-2022/dont_patronize_me.py\"\n",
    "module_name = module_url.split('/')[-1]\n",
    "print(f'Fetching {module_url}')\n",
    "with request.urlopen(module_url) as f, open(module_name,'w') as outf:\n",
    "    a = f.read()\n",
    "    outf.write(a.decode('utf-8'))"
   ]
  },
  {
   "cell_type": "code",
   "execution_count": 3,
   "metadata": {
    "id": "tOHlZdOhD059"
   },
   "outputs": [],
   "source": [
    "from dont_patronize_me import DontPatronizeMe\n",
    "# Initialize a dpm (Don't Patronize Me) object.\n",
    "# It takes two areguments as input: \n",
    "# (1) Path to the directory containing the training set files, which is the root directory of this notebook.\n",
    "# (2) Path to the test set, which will be released when the evaluation phase begins. In this example, \n",
    "# we use the dataset for Subtask 1, which the code will load without labels.\n",
    "dpm = DontPatronizeMe('.', 'dontpatronizeme_pcl.tsv')"
   ]
  },
  {
   "cell_type": "code",
   "execution_count": 4,
   "metadata": {
    "id": "ap9z9g6qD05-"
   },
   "outputs": [],
   "source": [
    "# This method loads the subtask 1 data\n",
    "dpm.load_task1()\n",
    "# which we can then access as a dataframe\n",
    "df = dpm.train_task1_df"
   ]
  },
  {
   "cell_type": "code",
   "execution_count": 5,
   "metadata": {
    "colab": {
     "base_uri": "https://localhost:8080/",
     "height": 424
    },
    "id": "TE-0E4TsD05-",
    "outputId": "6898b189-0fc8-43f2-ee2b-06dd780b4a46"
   },
   "outputs": [
    {
     "data": {
      "text/html": [
       "<div>\n",
       "<style scoped>\n",
       "    .dataframe tbody tr th:only-of-type {\n",
       "        vertical-align: middle;\n",
       "    }\n",
       "\n",
       "    .dataframe tbody tr th {\n",
       "        vertical-align: top;\n",
       "    }\n",
       "\n",
       "    .dataframe thead th {\n",
       "        text-align: right;\n",
       "    }\n",
       "</style>\n",
       "<table border=\"1\" class=\"dataframe\">\n",
       "  <thead>\n",
       "    <tr style=\"text-align: right;\">\n",
       "      <th></th>\n",
       "      <th>par_id</th>\n",
       "      <th>art_id</th>\n",
       "      <th>keyword</th>\n",
       "      <th>country</th>\n",
       "      <th>text</th>\n",
       "      <th>label</th>\n",
       "      <th>orig_label</th>\n",
       "    </tr>\n",
       "  </thead>\n",
       "  <tbody>\n",
       "    <tr>\n",
       "      <th>0</th>\n",
       "      <td>1</td>\n",
       "      <td>@@24942188</td>\n",
       "      <td>hopeless</td>\n",
       "      <td>ph</td>\n",
       "      <td>we 're living in times of absolute insanity , ...</td>\n",
       "      <td>0</td>\n",
       "      <td>0</td>\n",
       "    </tr>\n",
       "    <tr>\n",
       "      <th>1</th>\n",
       "      <td>2</td>\n",
       "      <td>@@21968160</td>\n",
       "      <td>migrant</td>\n",
       "      <td>gh</td>\n",
       "      <td>in libya today , there are countless number of...</td>\n",
       "      <td>0</td>\n",
       "      <td>0</td>\n",
       "    </tr>\n",
       "    <tr>\n",
       "      <th>2</th>\n",
       "      <td>3</td>\n",
       "      <td>@@16584954</td>\n",
       "      <td>immigrant</td>\n",
       "      <td>ie</td>\n",
       "      <td>\"white house press secretary sean spicer said ...</td>\n",
       "      <td>0</td>\n",
       "      <td>0</td>\n",
       "    </tr>\n",
       "    <tr>\n",
       "      <th>3</th>\n",
       "      <td>4</td>\n",
       "      <td>@@7811231</td>\n",
       "      <td>disabled</td>\n",
       "      <td>nz</td>\n",
       "      <td>council customers only signs would be displaye...</td>\n",
       "      <td>0</td>\n",
       "      <td>0</td>\n",
       "    </tr>\n",
       "    <tr>\n",
       "      <th>4</th>\n",
       "      <td>5</td>\n",
       "      <td>@@1494111</td>\n",
       "      <td>refugee</td>\n",
       "      <td>ca</td>\n",
       "      <td>\"\"\" just like we received migrants fleeing el ...</td>\n",
       "      <td>0</td>\n",
       "      <td>0</td>\n",
       "    </tr>\n",
       "    <tr>\n",
       "      <th>...</th>\n",
       "      <td>...</td>\n",
       "      <td>...</td>\n",
       "      <td>...</td>\n",
       "      <td>...</td>\n",
       "      <td>...</td>\n",
       "      <td>...</td>\n",
       "      <td>...</td>\n",
       "    </tr>\n",
       "    <tr>\n",
       "      <th>10464</th>\n",
       "      <td>10465</td>\n",
       "      <td>@@14297363</td>\n",
       "      <td>women</td>\n",
       "      <td>lk</td>\n",
       "      <td>\"sri lankan norms and culture inhibit women fr...</td>\n",
       "      <td>0</td>\n",
       "      <td>1</td>\n",
       "    </tr>\n",
       "    <tr>\n",
       "      <th>10465</th>\n",
       "      <td>10466</td>\n",
       "      <td>@@70091353</td>\n",
       "      <td>vulnerable</td>\n",
       "      <td>ph</td>\n",
       "      <td>he added that the afp will continue to bank on...</td>\n",
       "      <td>0</td>\n",
       "      <td>0</td>\n",
       "    </tr>\n",
       "    <tr>\n",
       "      <th>10466</th>\n",
       "      <td>10467</td>\n",
       "      <td>@@20282330</td>\n",
       "      <td>in-need</td>\n",
       "      <td>ng</td>\n",
       "      <td>\"\"\" she has one huge platform , and informatio...</td>\n",
       "      <td>1</td>\n",
       "      <td>3</td>\n",
       "    </tr>\n",
       "    <tr>\n",
       "      <th>10467</th>\n",
       "      <td>10468</td>\n",
       "      <td>@@16753236</td>\n",
       "      <td>hopeless</td>\n",
       "      <td>in</td>\n",
       "      <td>\"\"\" anja ringgren loven i ca n't find a word t...</td>\n",
       "      <td>1</td>\n",
       "      <td>4</td>\n",
       "    </tr>\n",
       "    <tr>\n",
       "      <th>10468</th>\n",
       "      <td>10469</td>\n",
       "      <td>@@16779383</td>\n",
       "      <td>homeless</td>\n",
       "      <td>ie</td>\n",
       "      <td>\"\"\" guinness world record of 540lbs of 7-layer...</td>\n",
       "      <td>1</td>\n",
       "      <td>3</td>\n",
       "    </tr>\n",
       "  </tbody>\n",
       "</table>\n",
       "<p>10469 rows × 7 columns</p>\n",
       "</div>"
      ],
      "text/plain": [
       "      par_id      art_id     keyword country  \\\n",
       "0          1  @@24942188    hopeless      ph   \n",
       "1          2  @@21968160     migrant      gh   \n",
       "2          3  @@16584954   immigrant      ie   \n",
       "3          4   @@7811231    disabled      nz   \n",
       "4          5   @@1494111     refugee      ca   \n",
       "...      ...         ...         ...     ...   \n",
       "10464  10465  @@14297363       women      lk   \n",
       "10465  10466  @@70091353  vulnerable      ph   \n",
       "10466  10467  @@20282330     in-need      ng   \n",
       "10467  10468  @@16753236    hopeless      in   \n",
       "10468  10469  @@16779383    homeless      ie   \n",
       "\n",
       "                                                    text  label orig_label  \n",
       "0      we 're living in times of absolute insanity , ...      0          0  \n",
       "1      in libya today , there are countless number of...      0          0  \n",
       "2      \"white house press secretary sean spicer said ...      0          0  \n",
       "3      council customers only signs would be displaye...      0          0  \n",
       "4      \"\"\" just like we received migrants fleeing el ...      0          0  \n",
       "...                                                  ...    ...        ...  \n",
       "10464  \"sri lankan norms and culture inhibit women fr...      0          1  \n",
       "10465  he added that the afp will continue to bank on...      0          0  \n",
       "10466  \"\"\" she has one huge platform , and informatio...      1          3  \n",
       "10467  \"\"\" anja ringgren loven i ca n't find a word t...      1          4  \n",
       "10468  \"\"\" guinness world record of 540lbs of 7-layer...      1          3  \n",
       "\n",
       "[10469 rows x 7 columns]"
      ]
     },
     "execution_count": 5,
     "metadata": {},
     "output_type": "execute_result"
    }
   ],
   "source": [
    "df"
   ]
  },
  {
   "cell_type": "code",
   "execution_count": 6,
   "metadata": {
    "colab": {
     "base_uri": "https://localhost:8080/"
    },
    "id": "ONiEh6j6D05_",
    "outputId": "fa26e0ef-161f-40be-9a70-4c6473c28f48"
   },
   "outputs": [
    {
     "data": {
      "text/plain": [
       "0    9476\n",
       "1     993\n",
       "Name: label, dtype: int64"
      ]
     },
     "execution_count": 6,
     "metadata": {},
     "output_type": "execute_result"
    }
   ],
   "source": [
    "df.label.value_counts()"
   ]
  },
  {
   "cell_type": "code",
   "execution_count": 7,
   "metadata": {
    "id": "aPp6OYtED06A"
   },
   "outputs": [],
   "source": [
    "def labels2file(p, outf_path):\n",
    "    with open(outf_path,'w') as outf:\n",
    "        for pi in p:\n",
    "            outf.write(','.join([str(k) for k in pi])+'\\n')"
   ]
  },
  {
   "cell_type": "code",
   "execution_count": 8,
   "metadata": {
    "colab": {
     "base_uri": "https://localhost:8080/"
    },
    "id": "gsSEenwiD06A",
    "outputId": "857ba8f3-39ea-4b72-de3d-0e07396dd8f7"
   },
   "outputs": [
    {
     "name": "stdout",
     "output_type": "stream",
     "text": [
      "mkdir: cannot create directory ‘ref’: File exists\r\n",
      "mkdir: cannot create directory ‘res’: File exists\r\n"
     ]
    }
   ],
   "source": [
    "!mkdir ref res"
   ]
  },
  {
   "cell_type": "code",
   "execution_count": 9,
   "metadata": {
    "id": "Ajuz44gkD06B"
   },
   "outputs": [],
   "source": [
    "dpm.load_test()"
   ]
  },
  {
   "cell_type": "code",
   "execution_count": 10,
   "metadata": {
    "id": "n8fzZBH-D06D"
   },
   "outputs": [],
   "source": [
    "preds_task1 = [[random.randint(0,1)] for k in range(0,len(dpm.test_set))]\n",
    "labels2file(preds_task1, os.path.join('res/', 'task1.txt'))"
   ]
  },
  {
   "cell_type": "code",
   "execution_count": 11,
   "metadata": {
    "colab": {
     "base_uri": "https://localhost:8080/"
    },
    "id": "fbHNSqdGD06H",
    "outputId": "e71b99a6-8f9e-436b-a197-3ca5e2eaf447"
   },
   "outputs": [
    {
     "name": "stdout",
     "output_type": "stream",
     "text": [
      "Requirement already satisfied: bert-for-tf2 in /home/kadekool/class/5832/env/lib/python3.8/site-packages (0.14.9)\n",
      "Requirement already satisfied: py-params>=0.9.6 in /home/kadekool/class/5832/env/lib/python3.8/site-packages (from bert-for-tf2) (0.10.2)\n",
      "Requirement already satisfied: params-flow>=0.8.0 in /home/kadekool/class/5832/env/lib/python3.8/site-packages (from bert-for-tf2) (0.8.2)\n",
      "Requirement already satisfied: numpy in /home/kadekool/class/5832/env/lib/python3.8/site-packages (from params-flow>=0.8.0->bert-for-tf2) (1.21.2)\n",
      "Requirement already satisfied: tqdm in /home/kadekool/class/5832/env/lib/python3.8/site-packages (from params-flow>=0.8.0->bert-for-tf2) (4.62.3)\n",
      "Requirement already satisfied: sentencepiece in /home/kadekool/class/5832/env/lib/python3.8/site-packages (0.1.96)\n"
     ]
    },
    {
     "name": "stderr",
     "output_type": "stream",
     "text": [
      "2021-12-14 12:07:03.037281: W tensorflow/stream_executor/platform/default/dso_loader.cc:64] Could not load dynamic library 'libcudart.so.11.0'; dlerror: libcudart.so.11.0: cannot open shared object file: No such file or directory; LD_LIBRARY_PATH: /home/kadekool/catkin_ws/devel/lib:/opt/ros/noetic/lib\n",
      "2021-12-14 12:07:03.037404: I tensorflow/stream_executor/cuda/cudart_stub.cc:29] Ignore above cudart dlerror if you do not have a GPU set up on your machine.\n"
     ]
    }
   ],
   "source": [
    "!pip install bert-for-tf2\n",
    "!pip install sentencepiece\n",
    "\n",
    "import tensorflow as tf\n",
    "import tensorflow_hub as hub\n",
    "import bert\n",
    "\n",
    "from official.nlp import optimization  # to create AdamW optimizer"
   ]
  },
  {
   "cell_type": "code",
   "execution_count": 12,
   "metadata": {
    "id": "8C3v2bo3D06K"
   },
   "outputs": [],
   "source": [
    "#credit to the notebook we built this project off of\n",
    "def preprocess_text(sen):\n",
    "    # Removing html tags\n",
    "    sentence = remove_tags(sen)\n",
    "\n",
    "    # Remove punctuations and numbers\n",
    "    sentence = re.sub('[^a-zA-Z]', ' ', sentence)\n",
    "\n",
    "    # Single character removal\n",
    "    sentence = re.sub(r\"\\s+[a-zA-Z]\\s+\", ' ', sentence)\n",
    "\n",
    "    # Removing multiple spaces\n",
    "    sentence = re.sub(r'\\s+', ' ', sentence)\n",
    "\n",
    "    return sentence"
   ]
  },
  {
   "cell_type": "code",
   "execution_count": 13,
   "metadata": {
    "id": "7ydcDZY7D06K"
   },
   "outputs": [],
   "source": [
    "import re\n",
    "#Return the cleaned text\n",
    "TAG_RE = re.compile(r'<[^>]+>')\n",
    "\n",
    "def remove_tags(text):\n",
    "    return TAG_RE.sub('', text)"
   ]
  },
  {
   "cell_type": "code",
   "execution_count": 14,
   "metadata": {
    "id": "ZjG9eqkiD06L"
   },
   "outputs": [],
   "source": [
    "sentences = []\n",
    "data = list(df['text'])\n",
    "for sen in data:\n",
    "    sentences.append(preprocess_text(sen))\n"
   ]
  },
  {
   "cell_type": "code",
   "execution_count": 15,
   "metadata": {
    "id": "oM1fLCxYD06L"
   },
   "outputs": [],
   "source": [
    "# df = dpm.train_task1_df.head()\n",
    "# print(movie_reviews.columns.values)"
   ]
  },
  {
   "cell_type": "code",
   "execution_count": 16,
   "metadata": {
    "colab": {
     "base_uri": "https://localhost:8080/"
    },
    "id": "JZix0KpXD06L",
    "outputId": "a5d38e79-dff3-439c-e8d4-75129a94dd6e"
   },
   "outputs": [
    {
     "name": "stdout",
     "output_type": "stream",
     "text": [
      "Requirement already satisfied: bert-for-tf2 in /home/kadekool/class/5832/env/lib/python3.8/site-packages (0.14.9)\n",
      "Requirement already satisfied: params-flow>=0.8.0 in /home/kadekool/class/5832/env/lib/python3.8/site-packages (from bert-for-tf2) (0.8.2)\n",
      "Requirement already satisfied: py-params>=0.9.6 in /home/kadekool/class/5832/env/lib/python3.8/site-packages (from bert-for-tf2) (0.10.2)\n",
      "Requirement already satisfied: numpy in /home/kadekool/class/5832/env/lib/python3.8/site-packages (from params-flow>=0.8.0->bert-for-tf2) (1.21.2)\n",
      "Requirement already satisfied: tqdm in /home/kadekool/class/5832/env/lib/python3.8/site-packages (from params-flow>=0.8.0->bert-for-tf2) (4.62.3)\n",
      "Requirement already satisfied: sentencepiece in /home/kadekool/class/5832/env/lib/python3.8/site-packages (0.1.96)\n"
     ]
    }
   ],
   "source": [
    "import tensorflow_hub as hub\n",
    "import tensorflow as tf\n",
    "from tensorflow.keras import layers\n",
    "import bert\n",
    "\n",
    "!pip install bert-for-tf2\n",
    "!pip install sentencepiece"
   ]
  },
  {
   "cell_type": "code",
   "execution_count": 17,
   "metadata": {
    "id": "inrY1WPVD06M"
   },
   "outputs": [
    {
     "name": "stderr",
     "output_type": "stream",
     "text": [
      "2021-12-14 12:07:18.643080: W tensorflow/stream_executor/platform/default/dso_loader.cc:64] Could not load dynamic library 'libcuda.so.1'; dlerror: libcuda.so.1: cannot open shared object file: No such file or directory; LD_LIBRARY_PATH: /home/kadekool/catkin_ws/devel/lib:/opt/ros/noetic/lib\n",
      "2021-12-14 12:07:18.643183: W tensorflow/stream_executor/cuda/cuda_driver.cc:269] failed call to cuInit: UNKNOWN ERROR (303)\n",
      "2021-12-14 12:07:18.643224: I tensorflow/stream_executor/cuda/cuda_diagnostics.cc:156] kernel driver does not appear to be running on this host (LAPTOP-2RMABLFK): /proc/driver/nvidia/version does not exist\n",
      "2021-12-14 12:07:18.643961: I tensorflow/core/platform/cpu_feature_guard.cc:151] This TensorFlow binary is optimized with oneAPI Deep Neural Network Library (oneDNN) to use the following CPU instructions in performance-critical operations:  AVX2 FMA\n",
      "To enable them in other operations, rebuild TensorFlow with the appropriate compiler flags.\n"
     ]
    }
   ],
   "source": [
    "\n",
    "#once again, much of this cell can be attributed to the notebook we built off of (link in the report)\n",
    "\n",
    "BertTokenizer = bert.bert_tokenization.FullTokenizer\n",
    "#create a BERT embedding layer by importing the BERT model from hub.KerasLayer\n",
    "#trainable parameter is false since we will not further train the model\n",
    "bert_layer = hub.KerasLayer(\"https://tfhub.dev/tensorflow/bert_en_uncased_L-12_H-768_A-12/1\",\n",
    "                            trainable=False)\n",
    "#create a BERT vocabulary file\n",
    "vocabulary_file = bert_layer.resolved_object.vocab_file.asset_path.numpy()\n",
    "#set the text to lowercase\n",
    "to_lower_case = bert_layer.resolved_object.do_lower_case.numpy()\n",
    "#pass vocabulary_file and to_lower_case to the BertTokenizer object\n",
    "tokenizer = BertTokenizer(vocabulary_file, to_lower_case)"
   ]
  },
  {
   "cell_type": "code",
   "execution_count": 18,
   "metadata": {
    "colab": {
     "base_uri": "https://localhost:8080/"
    },
    "id": "I99hC1nED06M",
    "outputId": "4f92c85f-a6c4-4319-ec0c-49149f0ee029"
   },
   "outputs": [
    {
     "data": {
      "text/plain": [
       "[1045,\n",
       " 2123,\n",
       " 1005,\n",
       " 1056,\n",
       " 2228,\n",
       " 2008,\n",
       " 2017,\n",
       " 1005,\n",
       " 2128,\n",
       " 2583,\n",
       " 2000,\n",
       " 3942,\n",
       " 2888,\n",
       " 1005,\n",
       " 1055,\n",
       " 2160,\n",
       " 1012]"
      ]
     },
     "execution_count": 18,
     "metadata": {},
     "output_type": "execute_result"
    }
   ],
   "source": [
    "# Just to see how this thing tokenizes\n",
    "tokenizer.convert_tokens_to_ids(tokenizer.tokenize(\"I don't think that you're able to visit Henry's house.\"))"
   ]
  },
  {
   "cell_type": "code",
   "execution_count": 19,
   "metadata": {
    "id": "x70SBbUtD06N"
   },
   "outputs": [],
   "source": [
    "def tokenize_reviews(text_reviews):\n",
    "    return tokenizer.convert_tokens_to_ids(tokenizer.tokenize(text_reviews))"
   ]
  },
  {
   "cell_type": "code",
   "execution_count": 20,
   "metadata": {
    "id": "sWykt_qbD06N"
   },
   "outputs": [],
   "source": [
    "tokenized_sentences = [tokenize_reviews(sent) for sent in sentences]\n"
   ]
  },
  {
   "cell_type": "code",
   "execution_count": 21,
   "metadata": {
    "id": "O_ck0y4NYsL1"
   },
   "outputs": [],
   "source": [
    "import tensorflow as tf\n",
    "from tensorflow.keras.layers import Embedding, Dense, LSTM, Bidirectional\n",
    "from tensorflow.keras.losses import BinaryCrossentropy\n",
    "from tensorflow.keras.models import Sequential\n",
    "from tensorflow.keras.optimizers import Adam\n",
    "from tensorflow.keras.preprocessing.sequence import pad_sequences"
   ]
  },
  {
   "cell_type": "code",
   "execution_count": 22,
   "metadata": {
    "id": "WLAnWMJcZF7o"
   },
   "outputs": [],
   "source": [
    "# To see the accuracy and precision as model is training\n",
    "additional_metrics = ['accuracy', tf.keras.metrics.Precision()]\n",
    "\n",
    "batch_size = 512\n",
    "\n",
    "# 10 seems to be a good value for this parameter\n",
    "embedding_output_dims = 10\n",
    "loss_function = BinaryCrossentropy()\n",
    "\n",
    "# Idea of max sequence is to cut off sequence if exceeding certain length\n",
    "# Saves a ton of time on training since longest sequences is 5501 tokens\n",
    "max_sequence_length = 100\n",
    "number_of_epochs = 20\n",
    "\n",
    "# Adam is an optimizer that seems to be very standard that Ive worked with in the past.\n",
    "optimizer = Adam()\n",
    "\n",
    "#Parameter just to see info as model is training \n",
    "verbosity_mode = 1"
   ]
  },
  {
   "cell_type": "code",
   "execution_count": null,
   "metadata": {
    "id": "JLjJ6cF9nuaG"
   },
   "outputs": [],
   "source": []
  },
  {
   "cell_type": "code",
   "execution_count": 23,
   "metadata": {
    "id": "C517UD64a60G"
   },
   "outputs": [],
   "source": [
    "# We need to pad inputs with 0 to standardize their lengths\n",
    "padded_inputs = pad_sequences(tokenized_sentences, maxlen=max_sequence_length, value = 0.0) # 0.0 because it corresponds with <PAD>\n",
    "\n",
    "# separate into training and testing sets\n",
    "indices = np.random.permutation(padded_inputs.shape[0])\n",
    "\n",
    "#Roughly a 80/20 split\n",
    "training_idx, test_idx = indices[:8000], indices[8000:]\n",
    "# training_idx, test_idx = indices[2000:], indices[:2000]\n",
    "\n",
    "\n",
    "padded_inputs_train = padded_inputs[training_idx]\n",
    "padded_inputs_test = padded_inputs[test_idx]\n",
    "\n",
    "labels_inputs = df['label'][training_idx]\n"
   ]
  },
  {
   "cell_type": "code",
   "execution_count": 24,
   "metadata": {
    "id": "VVNbvliuwTmy"
   },
   "outputs": [],
   "source": [
    "from keras import backend as K\n",
    "from keras.utils.generic_utils import get_custom_objects\n",
    "from keras.layers import Activation"
   ]
  },
  {
   "cell_type": "code",
   "execution_count": 26,
   "metadata": {
    "colab": {
     "base_uri": "https://localhost:8080/"
    },
    "id": "DwJ0CjNpYtVm",
    "outputId": "b7903939-4109-4ecc-c121-f8e5271a96cb"
   },
   "outputs": [
    {
     "name": "stdout",
     "output_type": "stream",
     "text": [
      "Model: \"sequential_1\"\n",
      "_________________________________________________________________\n",
      " Layer (type)                Output Shape              Param #   \n",
      "=================================================================\n",
      " embedding_1 (Embedding)     (None, 100, 10)           300000    \n",
      "                                                                 \n",
      " bidirectional_3 (Bidirectio  (None, 100, 40)          4960      \n",
      " nal)                                                            \n",
      "                                                                 \n",
      " bidirectional_4 (Bidirectio  (None, 100, 40)          9760      \n",
      " nal)                                                            \n",
      "                                                                 \n",
      " bidirectional_5 (Bidirectio  (None, 40)               9760      \n",
      " nal)                                                            \n",
      "                                                                 \n",
      " dense_1 (Dense)             (None, 1)                 41        \n",
      "                                                                 \n",
      "=================================================================\n",
      "Total params: 324,521\n",
      "Trainable params: 324,521\n",
      "Non-trainable params: 0\n",
      "_________________________________________________________________\n",
      "Epoch 1/20\n",
      "16/16 [==============================] - 33s 980ms/step - loss: 0.4451 - accuracy: 0.9010 - precision: 0.3577 - val_loss: 0.3107 - val_accuracy: 0.9068 - val_precision: 0.0000e+00\n",
      "Epoch 2/20\n",
      "16/16 [==============================] - 16s 994ms/step - loss: 0.3169 - accuracy: 0.9046 - precision: 0.0000e+00 - val_loss: 0.3099 - val_accuracy: 0.9068 - val_precision: 0.0000e+00\n",
      "Epoch 3/20\n",
      "16/16 [==============================] - 16s 975ms/step - loss: 0.3123 - accuracy: 0.9046 - precision: 0.0000e+00 - val_loss: 0.3066 - val_accuracy: 0.9068 - val_precision: 0.0000e+00\n",
      "Epoch 4/20\n",
      "16/16 [==============================] - 14s 841ms/step - loss: 0.2919 - accuracy: 0.9046 - precision: 0.0000e+00 - val_loss: 0.2757 - val_accuracy: 0.9068 - val_precision: 0.0000e+00\n",
      "Epoch 5/20\n",
      "16/16 [==============================] - 14s 846ms/step - loss: 0.1968 - accuracy: 0.9180 - precision: 0.7004 - val_loss: 0.3002 - val_accuracy: 0.9040 - val_precision: 0.4679\n",
      "Epoch 6/20\n",
      "16/16 [==============================] - 13s 795ms/step - loss: 0.1202 - accuracy: 0.9571 - precision: 0.7800 - val_loss: 0.3249 - val_accuracy: 0.9068 - val_precision: 0.5000\n",
      "Epoch 7/20\n",
      "16/16 [==============================] - 12s 731ms/step - loss: 0.0791 - accuracy: 0.9740 - precision: 0.8817 - val_loss: 0.3463 - val_accuracy: 0.8979 - val_precision: 0.4191\n",
      "Epoch 8/20\n",
      "16/16 [==============================] - 13s 840ms/step - loss: 0.0432 - accuracy: 0.9876 - precision: 0.9312 - val_loss: 0.4239 - val_accuracy: 0.9044 - val_precision: 0.4583\n",
      "Epoch 9/20\n",
      "16/16 [==============================] - 12s 752ms/step - loss: 0.0281 - accuracy: 0.9920 - precision: 0.9666 - val_loss: 0.4519 - val_accuracy: 0.8943 - val_precision: 0.3931\n",
      "Epoch 10/20\n",
      "16/16 [==============================] - 10s 658ms/step - loss: 0.0206 - accuracy: 0.9951 - precision: 0.9701 - val_loss: 0.4739 - val_accuracy: 0.9028 - val_precision: 0.4359\n",
      "Epoch 11/20\n",
      "16/16 [==============================] - 10s 653ms/step - loss: 0.0129 - accuracy: 0.9971 - precision: 0.9856 - val_loss: 0.4940 - val_accuracy: 0.8955 - val_precision: 0.3871\n",
      "Epoch 12/20\n",
      "16/16 [==============================] - 12s 740ms/step - loss: 0.0111 - accuracy: 0.9971 - precision: 0.9868 - val_loss: 0.5314 - val_accuracy: 0.8967 - val_precision: 0.3950\n",
      "Epoch 13/20\n",
      "16/16 [==============================] - 13s 835ms/step - loss: 0.0092 - accuracy: 0.9981 - precision: 0.9921 - val_loss: 0.5582 - val_accuracy: 0.8870 - val_precision: 0.3550\n",
      "Epoch 14/20\n",
      "16/16 [==============================] - 10s 641ms/step - loss: 0.0123 - accuracy: 0.9970 - precision: 0.9805 - val_loss: 0.5598 - val_accuracy: 0.8959 - val_precision: 0.3953\n",
      "Epoch 15/20\n",
      "16/16 [==============================] - 11s 689ms/step - loss: 0.0123 - accuracy: 0.9967 - precision: 0.9804 - val_loss: 0.5599 - val_accuracy: 0.9048 - val_precision: 0.4667\n",
      "Epoch 16/20\n",
      "16/16 [==============================] - 14s 870ms/step - loss: 0.0102 - accuracy: 0.9976 - precision: 0.9921 - val_loss: 0.5564 - val_accuracy: 0.8947 - val_precision: 0.3790\n",
      "Epoch 17/20\n",
      "16/16 [==============================] - 10s 618ms/step - loss: 0.0061 - accuracy: 0.9989 - precision: 0.9974 - val_loss: 0.5765 - val_accuracy: 0.8931 - val_precision: 0.3651\n",
      "Epoch 18/20\n",
      "16/16 [==============================] - 10s 645ms/step - loss: 0.0061 - accuracy: 0.9991 - precision: 0.9961 - val_loss: 0.5983 - val_accuracy: 0.8939 - val_precision: 0.3788\n",
      "Epoch 19/20\n",
      "16/16 [==============================] - 10s 637ms/step - loss: 0.0051 - accuracy: 0.9992 - precision: 0.9974 - val_loss: 0.6168 - val_accuracy: 0.8886 - val_precision: 0.3529\n",
      "Epoch 20/20\n",
      "16/16 [==============================] - 10s 639ms/step - loss: 0.0037 - accuracy: 0.9995 - precision: 0.9987 - val_loss: 0.6083 - val_accuracy: 0.8947 - val_precision: 0.3707\n"
     ]
    }
   ],
   "source": [
    "model = Sequential()\n",
    "\n",
    "# Embedding layer:\n",
    "num_unique_words = 50000\n",
    "model.add(Embedding(30000, embedding_output_dims, input_length=max_sequence_length))\n",
    "\n",
    "\n",
    "# Biderection lstm layer:\n",
    "# Merge mode parameter is \"mode by which outputs of forward and backward RNN will be combined\"\n",
    "# concat seems to be the best one\n",
    "\n",
    "# Havent .3 dropout rate seems to be working best/most consistently\n",
    "model.add(Bidirectional(LSTM(20, dropout = .3, return_sequences=True)))\n",
    "model.add(Bidirectional(LSTM(20, dropout = .3, return_sequences=True)))\n",
    "\n",
    "model.add(Bidirectional(LSTM(20,dropout = .3), merge_mode='concat'))\n",
    "\n",
    "\n",
    "# Dense layer with a sigmoid activation function\n",
    "# Outputs as a probability so we can produce the binary classes\n",
    "model.add(Dense(1, activation='sigmoid'))\n",
    "\n",
    "\n",
    "# Compile the model\n",
    "model.compile(optimizer=optimizer, loss=loss_function, metrics=additional_metrics)\n",
    "\n",
    "# Give a summary\n",
    "model.summary()\n",
    "\n",
    "# Train the model\n",
    "history = model.fit(padded_inputs_train, labels_inputs, validation_data=(padded_inputs_test, df['label'][test_idx]), batch_size=batch_size, epochs=number_of_epochs, verbose=verbosity_mode)\n"
   ]
  },
  {
   "cell_type": "code",
   "execution_count": 27,
   "metadata": {
    "colab": {
     "base_uri": "https://localhost:8080/",
     "height": 295
    },
    "id": "7sfU4R6s2d-h",
    "outputId": "cadb9381-2320-406c-9dc5-c766db762615"
   },
   "outputs": [
    {
     "data": {
      "image/png": "[encoded data removed]",
      "text/plain": [
       "<Figure size 432x288 with 1 Axes>"
      ]
     },
     "metadata": {
      "needs_background": "light"
     },
     "output_type": "display_data"
    }
   ],
   "source": [
    "from matplotlib import pyplot as plt\n",
    "plt.plot(history.history['accuracy'])\n",
    "plt.plot(history.history['val_accuracy'])\n",
    "\n",
    "plt.plot(history.history['loss'])\n",
    "plt.plot(history.history['val_loss'])\n",
    "\n",
    "plt.title('model accuracy')\n",
    "plt.ylabel('accuracy')\n",
    "plt.xlabel('epoch')\n",
    "plt.legend(['training acc', 'testing acc', 'training loss', 'testing loss'], loc='upper left')\n",
    "plt.show()"
   ]
  },
  {
   "cell_type": "markdown",
   "metadata": {
    "id": "cOa3Hjj9JLeL"
   },
   "source": [
    "We see that actually after 5-10 or so epochs, the model is now learning the \"wrong\" things. We can see this from the fact that the accuracy and loss decouple between the training and test sets. The model is able to figure out very precise patterns in the training set that due to randomness are not in the test set. By randomizing the test and training set before training, we've seen that this phenomena happens at different number of epochs"
   ]
  },
  {
   "cell_type": "code",
   "execution_count": 28,
   "metadata": {
    "colab": {
     "base_uri": "https://localhost:8080/"
    },
    "id": "du8Qjf4YD06Q",
    "outputId": "7d0bd51c-fa43-4f99-d271-02b4918da0e4"
   },
   "outputs": [
    {
     "name": "stdout",
     "output_type": "stream",
     "text": [
      "[[7.6052547e-04]\n",
      " [7.3996186e-04]\n",
      " [7.5584650e-04]\n",
      " ...\n",
      " [9.9595058e-01]\n",
      " [7.5080991e-04]\n",
      " [3.4725219e-01]]\n"
     ]
    }
   ],
   "source": [
    "results = model.predict(padded_inputs_test)\n",
    "print(results)\n"
   ]
  },
  {
   "cell_type": "code",
   "execution_count": 29,
   "metadata": {
    "colab": {
     "base_uri": "https://localhost:8080/"
    },
    "id": "-bWsZv0WD06Q",
    "outputId": "db542ae7-4a6d-443c-be58-f74fb9cf0b71"
   },
   "outputs": [
    {
     "name": "stdout",
     "output_type": "stream",
     "text": [
      "215 2254\n"
     ]
    }
   ],
   "source": [
    "# See how many positive and negative predictions in test set\n",
    "negCount = 0\n",
    "posCount = 0\n",
    "res = []\n",
    "for i in range(0,len(results)):\n",
    "\n",
    "# We noticed the rate of positives to negatives here was significantly lower than the training set if we used a .5 cuttof\n",
    "# Because of this, We significantly lower the decision point to try and capture more \"true positives\"\n",
    "\n",
    "  if(results[i]< .005):\n",
    "    negCount += 1\n",
    "    res.append(0)\n",
    "  else:\n",
    "    posCount += 1\n",
    "    res.append(1)\n",
    "print(posCount,negCount)"
   ]
  },
  {
   "cell_type": "code",
   "execution_count": 30,
   "metadata": {
    "id": "6QBsWki4Q-c0"
   },
   "outputs": [],
   "source": [
    "preds_task1 = [[res[k]] for k in range(0,len(res))]\n",
    "\n",
    "labels2file(preds_task1, os.path.join('res/', 'task1.txt'))"
   ]
  },
  {
   "cell_type": "code",
   "execution_count": 31,
   "metadata": {
    "id": "_j6NQNUfTlMl"
   },
   "outputs": [],
   "source": [
    "labels2file(dpm.train_task1_df.label[test_idx].apply(lambda x:[x]).tolist(), os.path.join('ref/', 'task1.txt'))"
   ]
  },
  {
   "cell_type": "code",
   "execution_count": 32,
   "metadata": {
    "id": "YsczF9MqWQn_"
   },
   "outputs": [],
   "source": [
    "import sys\n",
    "import os\n",
    "import os.path\n",
    "from sklearn.metrics import precision_score, recall_score, f1_score, classification_report\n",
    "import numpy as np\n",
    "\n",
    "# as per the metadata file, input and output directories are the arguments\n",
    "[_, input_dir, output_dir] = sys.argv\n",
    "\n",
    "# unzipped submission data is always in the 'res' subdirectory\n",
    "# https://github.com/codalab/codalab-competitions/wiki/User_Building-a-Scoring-Program-for-a-Competition#directory-structure-for-submissions\n",
    "\n",
    "# define gold data path\n",
    "ref_dir = os.path.join(\".\", 'ref')\n",
    "\n",
    "# define submission data path\n",
    "submission_dir = os.path.join(\".\", 'res')\n",
    "files = os.listdir(submission_dir)\n",
    "\n",
    "# define path for scores file\n",
    "outf = open(os.path.join(\".\",'scores.txt'),'w')\n",
    "\n",
    "# evaluating on task 1\n",
    "if 'task1.txt' in files:\n",
    "    task1_res = []\n",
    "    task1_gold = []\n",
    "    with open(os.path.join(submission_dir,'task1.txt')) as f:\n",
    "        for line in f:\n",
    "            task1_res.append(int(line.strip()))\n",
    "    with open(os.path.join(ref_dir,'task1.txt')) as f:\n",
    "        for line in f:\n",
    "            task1_gold.append(int(line.strip()))\n",
    "    # task 1 scores\n",
    "    t1p = precision_score(task1_gold, task1_res)\n",
    "    t1r = recall_score(task1_gold, task1_res)\n",
    "    t1f = f1_score(task1_gold, task1_res)\n",
    "    # task1\n",
    "    outf.write('task1_precision:'+str(t1p)+'\\n')\n",
    "    outf.write('task1_recall:'+str(t1r)+'\\n')\n",
    "    outf.write('task1_f1:'+str(t1f)+'\\n')    \n",
    "\n",
    "\n",
    "outf.close()"
   ]
  }
 ],
 "metadata": {
  "colab": {
   "name": "sharedtask.ipynb",
   "provenance": []
  },
  "kernelspec": {
   "display_name": "Python 3 (ipykernel)",
   "language": "python",
   "name": "python3"
  },
  "language_info": {
   "codemirror_mode": {
    "name": "ipython",
    "version": 3
   },
   "file_extension": ".py",
   "mimetype": "text/x-python",
   "name": "python",
   "nbconvert_exporter": "python",
   "pygments_lexer": "ipython3",
   "version": "3.8.10"
  }
 },
 "nbformat": 4,
 "nbformat_minor": 1
}
